{
  "nbformat": 4,
  "nbformat_minor": 0,
  "metadata": {
    "colab": {
      "name": "artcellSong.ipynb",
      "provenance": [],
      "collapsed_sections": []
    },
    "kernelspec": {
      "name": "python3",
      "display_name": "Python 3"
    },
    "accelerator": "GPU"
  },
  "cells": [
    {
      "cell_type": "code",
      "metadata": {
        "id": "IOjS4GoTnU4N",
        "colab_type": "code",
        "colab": {
          "resources": {
            "http://localhost:8080/nbextensions/google.colab/files.js": {
              "data": "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",
              "ok": true,
              "headers": [
                [
                  "content-type",
                  "application/javascript"
                ]
              ],
              "status": 200,
              "status_text": "OK"
            }
          },
          "base_uri": "https://localhost:8080/",
          "height": 75
        },
        "outputId": "7f59d8ad-dc95-4494-84a4-a6f263eed478"
      },
      "source": [
        "from google.colab import files\n",
        "uploaded = files.upload()"
      ],
      "execution_count": 1,
      "outputs": [
        {
          "output_type": "display_data",
          "data": {
            "text/html": [
              "\n",
              "     <input type=\"file\" id=\"files-d34ba043-4943-49a6-a5f4-1dc81482afe7\" name=\"files[]\" multiple disabled\n",
              "        style=\"border:none\" />\n",
              "     <output id=\"result-d34ba043-4943-49a6-a5f4-1dc81482afe7\">\n",
              "      Upload widget is only available when the cell has been executed in the\n",
              "      current browser session. Please rerun this cell to enable.\n",
              "      </output>\n",
              "      <script src=\"/nbextensions/google.colab/files.js\"></script> "
            ],
            "text/plain": [
              "<IPython.core.display.HTML object>"
            ]
          },
          "metadata": {
            "tags": []
          }
        },
        {
          "output_type": "stream",
          "text": [
            "Saving artcellSongs.txt to artcellSongs (1).txt\n"
          ],
          "name": "stdout"
        }
      ]
    },
    {
      "cell_type": "code",
      "metadata": {
        "id": "57mJSXENntXN",
        "colab_type": "code",
        "colab": {}
      },
      "source": [
        "from tensorflow.keras.preprocessing.sequence import pad_sequences\n",
        "from tensorflow.keras.layers import Embedding, LSTM, Dense, Bidirectional\n",
        "from tensorflow.keras.preprocessing.text import Tokenizer\n",
        "from tensorflow.keras.models import Sequential\n",
        "import tensorflow.keras.utils as ku \n",
        "import numpy as np "
      ],
      "execution_count": 2,
      "outputs": []
    },
    {
      "cell_type": "code",
      "metadata": {
        "id": "cNMoHvreoKQX",
        "colab_type": "code",
        "colab": {}
      },
      "source": [
        "data = open('/content/artcellSongs.txt').read()"
      ],
      "execution_count": 3,
      "outputs": []
    },
    {
      "cell_type": "code",
      "metadata": {
        "id": "CjTbOMgJpJLs",
        "colab_type": "code",
        "colab": {
          "base_uri": "https://localhost:8080/",
          "height": 128
        },
        "outputId": "6e4a6445-c126-4ac9-a99d-e6a0c082b6b7"
      },
      "source": [
        "data"
      ],
      "execution_count": 4,
      "outputs": [
        {
          "output_type": "execute_result",
          "data": {
            "application/vnd.google.colaboratory.intrinsic": {
              "type": "string"
            },
            "text/plain": [
              "\"নোনা স্বপ্নে গড়া\\nতোমার স্মৃতি\\nশত রঙে রাঙিয়ে মিথ্যে\\nকোনো স্পন্দন\\nআলোর নিচে যে আঁধার\\nখেলা করে\\nসে আঁধারে শরীর মেশালে\\nহে...\\n\\nনোনা স্বপ্নে গড়া\\nতোমার স্মৃতি\\nশত রঙে রাঙিয়ে মিথ্যে\\nকোনো স্পন্দন\\nআলোর নিচে যে আঁধার\\nখেলা করে\\nসে আঁধারে শরীর মেশালে\\nহে...\\n\\nআজ আমি ধূসর কি রঙিন\\nসময়ে\\nপথ হারাই তোমাতে\\nজীবনের কাঁটা তারে তুমি\\nঅন্ত্যমিলের\\nঅপূর্ণতায়\\nবেওয়ারিশ ঘুড়ি উড়ে\\nযাও অনাবিল\\nআকাশের শূণ্যতায়\\nতবু আমি...\\n\\nকী খুঁজি মানুষের\\nবিষাদের চোখে\\nকোথায় আলোর উৎসবে\\nস্বপ্নের প্রতিবিম্ব\\nভাঙে\\nএকা একা আমি থাকি\\nদাঁড়ায়ে\\nস্মৃতির ঝড়ো বাতাসে\\nদু'জনার শরীর মেশাই\\nকী খুঁজি মানুষের\\nবিষাদের চোখে\\nকোথায় আলোর উৎসবে\\nস্বপ্নের প্রতিবিম্ব\\nভাঙে\\nএকা একা আমি থাকি\\nদাঁড়ায়ে\\nস্মৃতির ঝড়ো বাতাসে\\nদু'জনার শরীর মেশাই\\n\\nআজ আমি ধূসর কি রঙিন\\nসময়ে\\nপথ হারাই তোমাতে\\nজীবনের কাঁটা তারে তুমি\\nঅন্ত্যমিলের\\nঅপূর্ণতায়\\nবেওয়ারিশ ঘুড়ি উড়ে\\nযাও অনাবিল\\nআকাশের শূণ্যতায়\\n\\nজীবনের কাঁটা তারে তুমি\\nঅন্ত্যমিলের\\nঅপূর্ণতায়\\nবেওয়ারিশ ঘুড়ি উড়ে\\nযাও অনাবিল\\nআকাশের শূণ্যতায়\\n\\nতবু আমি...\\nআমার অবারিত দরজা জুড়ে\\nসম্ভাবনার রঙিন মলাট\\nআমার শরীর ডুবে আছে\\nঅবিরাম মৃত উষ্ণতায়\\n\\nতুমি যে রোদ মাখবে বলে\\nমেতে উঠেছো রঙের উৎসবে\\nআমার বিষাদ ছায়া হয়ে\\nঢেকে দেয় তোমায়\\n\\nজানবে আমি শুধু আমি নই\\nআমি মানে অন্য কেউ\\nকিংবা প্রতিবিম্ব\\nতোমাতে মিলিয়ে আমার\\nসব সুর তোমারই সঙ্গোপনে\\n\\nতোমার এ অন্ধকারে যে\\nশব্দ বয়ে চলে\\nএসো কান পেতে রই নীরবে\\nমনেরই ইন্দ্রজাল জুড়ে\\nযে স্বপ্ন খেলা করে\\nনেবো সেই সীমানায়\\nতোমাকে\\nযত দূর চলে গেলে দূরত্ব\\nঘোচাবে\\nনিভে যাওয়া মানুষ\\nজ্বলবে আলো হয়ে\\nসেইখানে তোমাকে জানাবো\\nগোপনে\\nস্বপ্ন মানে পাশে থাকা\\n\\nসময়ের হাত ধরে\\nনতুন স্মৃতি নিয়ে\\nআমি থাকবো\\nপথ ছেড়ে\\nছদ্মবেশে\\n\\nআবার এসে দাঁড়ালে একা\\nদেখবে আমার চোখে\\nসম্ভাবনা\\nজীবন জুড়ে থাকা পরাজয়\\nহয়েছে ম্লান চিরকাল\\n\\nজানবে তুমি ভোর হওয়া\\nচোখে\\nযে অবিরাম স্বপ্ন দেখেছ\\nআমি সেই বাস্তবতা কিংবা\\nমলিন সান্ত্বনা\\n\\nআমাদের অভিধানে\\nমিথ্যের হয় অনুবাদ\\nঅবসাদ আশ্রয় খুঁজে\\nমানুষের অন্ধকার ঘরে\\nপ্রতিবাদ প্রতিরোধ\\nভুলে\\nআনমনে মেনে নেয় পরাজয়\\n\\nতখন ভাঙতে হবে ঘোর হাতে\\nরেখে হাত\\nহেরে যাওয়াকে বন্দি\\nকরে রেখে\\nজাগতে হবে রাত আলো\\nজ্বেলে রেখে\\nউৎসবের উৎসাহে\\nবিস্তীর্ণ উজানে একলা\\nহয়ে গেলে\\nচিনিয়ে নেবো পথ চিহ্ন\\nএঁকে এঁকে\\nপিছু ফিরে তাই ফিরতে\\nযদি হয়\\nপাড়ি দেবো পথ নিমেষে\\n\\nতখন ভাঙতে হবে ঘোর হাতে\\nরেখে হাত\\nহেরে যাওয়াকে বন্দি\\nকরে রেখে\\nজাগতে হবে রাত আলো\\nজ্বেলে রেখে\\nউৎসবের উৎসাহে\\nবিস্তীর্ণ উজানে একলা\\nহয়ে গেলে\\nচিনিয়ে নেবো পথ চিহ্ন\\nএঁকে এঁকে\\nপিছু ফিরে তাই ফিরতে\\nযদি হয়\\nপাড়ি দেবো পথ নিমেষে\\nতবু এই দেয়ালের শরীরে\\nযত ছেঁড়া রঙ ধুয়ে\\nযাওয়া মানুষ\\nপেশাদার প্রতিহিংসা\\nতোমার চেতনার\\nযত উদ্ভাসিত আলো রঙ\\nআকাশের মতন অকস্মাৎ নীল\\nনীলে ডুবে থাকা তোমার\\nপ্রিয় কোনো মুখ\\nতার চোখের কাছাকাছি এসে\\nকেন পথ ভেঙে\\n\\nদু'টো মানচিত্র এঁকে,\\nদু'টো দেশের মাঝে\\nবিঁধে আছে\\nঅনুভূতিগুলোর\\nব্যবচ্ছেদ\\n\\nতবু এইখানে আছে অবলীল\\nহাওয়া\\nজানালা বদ্ধ ঘরে আসে\\nযায়\\nদেয়াল ধরে বেড়ে ওঠে\\nমধ্যরাত\\nতোমার ছায়ায় জমে এসে\\nভয়\\nআলোকে চিনে নেয় আমার\\nঅবাধ্য সাহস\\nভেতরে এখন কি নেই\\nকাপুরুষ অন্ধকার একা?\\n\\nতোমাকে ঘিরে পথগুলো সব\\nসরে যায়\\nরাত্রির এই একা ঘর\\nশূন্যের কাঁটাতারে\\nদু'টো মানচিত্র এঁকে,\\nদু'টো দেশের মাঝে\\nমিশে আছে অনুভূতিগুলোর\\nব্যবচ্ছেদ\\n\\nতবু এই দু'টি কাঁটাতারে,\\nশহরের মতো করে\\nভিড়ে ভরে গেছে ঘুম\\nআমার\\nঅচেতন কখন বেওয়ারিশ,\\nমাটির কাছে এসে\\nসময় কে epitaph ভেবে হাঁটু\\nগেড়ে বসে\\n\\nতবু এখানে বাতাস আসে\\nদুরত্বের উৎসাহে\\nশরৎ জমে আছে ঠাণ্ডা\\nঘাসে\\nতোমার চোখের মাঝে দূরের\\nএকা পথ\\nএখানে ভাঙে না দু'টো\\nদেশে\\n\\nমেঘের দূরপথ ভেঙে বুকের\\nগভীর অন্ধকারে\\nআলোর নির্বাসন স্মৃতির\\nমতন\\nঅবিকল স্বপ্নঘর বাঁধা\\nস্মৃতির অন্ধ নির্জনে\\nসময় থেমে থাকে অনাগত\\nযুদ্ধের বিপরীতে\\n\\nএখানে সরণির লেখা নেই\\nনাম, কোনো শহীদ স্মারকে\\nতোমার জন্য জমা থাকে\\nশুধু স্বপ্নঘর\\nজানালায় ঝুলে থাকে না\\nশূন্যতার অবচেতন\\nতোমার ঘরের অন্ধ আলোয়\\nঅদেখা\\nএখানের নির্জন অনিকেত\\nপ্রান্তর\\n\\nতবুও তোমার ভাঙা\\nস্মৃতি, ছেঁড়া স্বপ্ন,\\nদোমড়ানো খেলাঘর\\nছেঁড়া আকাশ, ভাঙা\\nকাঁচে\\nআলো আর অন্ধকার তোমার\\n\\nতোমার দেয়ালে কত লেখা\\nমানুষের দেয়ালে\\nদেয়াল\\nবেড়ে ওঠে কাঁটাতার\\nএখানে এ মহান\\nমানচিত্রের ভাগাড়\\n\\nতোমার শূন্যঘরে ভরা\\nস্মৃতি\\nজড় পাথরে লেখা নাম –\\nশহীদ স্মরণী\\nজানালার বাইরে ভেসে\\nগেছে দূরের আকাশ\\nবিঁধে আছি সময়ের\\nকাঁটাতারে\\nবিঁধে আছো ছেঁড়া\\nআকাশের মত তুমি\\n\\nতোমার স্বপ্নের দলা\\nপাকানো\\nবাসি কবিতা, নষ্ট গানে\\nতোমার জানালার বাইরে\\nশূন্য আকাশ\\nতবু অনিকেত এই\\nপ্রান্তরে\\n\\nএখানে এখনও শরতের\\nপ্রচুর বাতাসে\\nসবুজের ঘ্রাণে ভরে আছে\\nঅন্ধকার এ ঘর তোমার\\nদেয়ালে এখন শুধু\\nমৃত্যুর মৃত রেখাপাত\\n\\nতোমাকে কড়া নাড়ে\\nস্মৃতিরা, ভাঙা স্বপ্ন\\nঘুমের মত নেশাময় কত\\nকত শিশু, কত আলোর মশাল\\nনিভে গেছে\\nনিভে গেছে কত অচেনা ভয়\\nতোমাকে এখন অপরিণত এক\\nঅচেনা স্মৃতি মনে হয়\\nতোমার জানালার বাইরে\\nশূন্যে\\nদূরের স্বপ্নঘর, ঝুলে\\nআছি নির্জনতায়\\nমৃত্যু কি অনিকেত\\nপ্রান্তর?\\nতোমরা কেউ কি দিতে পার\\nপ্রেমিকার ভালোবাসা?\\nদেবে কি কেউ জীবনে\\nউষ্ণতার সত্য আশা?\\nতোমরা কেউ কি দিতে পার\\nপ্রেমিকার ভালোবাসা?\\nদেবে কি কেউ জীবনে\\nউষ্ণতার সত্য আশা?\\n\\nভালোবাসার আগে নিজেকে\\nনিও বাজিয়ে\\nআমার মনের মত নিও\\nসাজিয়ে\\nআমি বড় অসহায় অন্য পথে\\nএকটি নাটক-ই দেখি\\nমহাকালের মঞ্চে\\n\\nও আমায় ভালোবাসেনি\\nঅসীম এ ভালোবাসা ও\\nবোঝেনি\\nও আমায় ভালোবাসেনি\\nঅতল এ ভালোবাসা তলিয়ে\\nদেখেনি\\n\\nতোমরা কেউ কি করবে আমার\\nজন্য অপেক্ষা?\\nভালোবাসবে শুধুই আমায়,\\nকরবে প্রতিজ্ঞা\\nতোমরা কেউ কি করবে আমার\\nজন্য অপেক্ষা?\\nভালোবাসবে শুধুই আমায়,\\nকরবে প্রতিজ্ঞা\\n\\nভালোবাসার আগে নিজেকে\\nনিও বাজিয়ে\\nআমার মনের মত নিও\\nসাজিয়ে\\nআমি বড় অসহায় অন্য পথে\\nএকটি নাটক-ই দেখি\\nমহাকালের মঞ্চে\\n\\nও আমায় ভালোবাসেনি\\nঅসীম এ ভালোবাসা ও\\nবোঝেনি\\nও আমায় ভালোবাসেনি\\nঅতল এ ভালোবাসা তলিয়ে\\nদেখেনি\\n\\nএত ভিড়েও আজও আমি একা\\nমনে শুধু-ই যে শূন্যতা\\nএত ভিড়েও আজও আমি একা\\nমনে শুধু-ই যে শূন্যতা\\nআঁধারে যত ছড়াই আলো\\nসবই আঁধারে মিলায়\\nও যে কোথায় হারালো\\nব্যথা কাকে যে শুধাই...\\n\\nতোমার অনেক ফেলে আসা\\nধূসর ধুলো জমা সময়ে\\nনীরব চেয়ে থাকা চোখের\\nআলো ঘিরে থাকবে যেন\\nতোমাকে\\nযা কিছু ছিলো থেমে থাকা\\nআবার থামবে এই বিদায়ে\\nআমার অপার সীমানাতে\\nতোমার চিহ্ন তবু রবে\\nবেঁচে\\n\\nতোমার অনেক ফেলে আসা\\nধূসর ধুলো জমা সময়ে\\nনীরব চেয়ে থাকা চোখের\\nআলো ঘিরে থাকবে যেন\\nতোমাকে\\nযা কিছু ছিলো থেমে থাকা\\nআবার থামবে এই বিদায়ে\\nআমার অপার সীমানাতে\\nতোমার চিহ্ন তবু রবে\\nবেঁচে\\nনিয়ত স্মরণের বেড়াজালে\\nঅধীর অপেক্ষার শেষে\\nপ্রয়াত আগামীর স্মৃতি\\nঘুরে বিদায় আসবে অবশেষে\\nতুমি নীল শব্দ শুনে\\nনির্জনে ধূসর ধুলো জমা\\nসময়ে\\nনিহত স্বপ্নগুলো সহসা\\nআলো জ্বেলে ...\\nহারিয়ে যাও যতদুরে আসবে\\nতবু ফিরে আবার অজানায়\\nঅবিরত মলিন ক্ষত মুছে\\nফেলে চিরতরে\\n\\nতোমার অসাড় থেমে থাকা\\nপ্রয়াত আগমনে\\n\\nতুমি নীল শব্দ শুনে\\nনির্জনে ধূসর ধুলো জমা\\nসময়ে\\nনিহিত স্বপ্নগুলো সহসা\\nআলো জ্বেলে ...\\nহারিয়ে যাও যতদুরে আসবে\\nতবু ফিরে আবার অজানায়\\nঅবিরত মলিন ক্ষত মুছে\\nফেলে চিরতরে\\nতোমার অসাড় থেমে থাকা\\nপ্রয়াত আগমনে\\nযা কিছু ছিলো থেমে থাকা\\nআবার থামবে এই বিদায়ে\\nআমার অপার সীমানাতে\\nতোমার চিহ্ন তবু রবে\\nবেঁচে\\nতোমার অনেক ফেলে আসা\\nধূসর ধুলো জমা সময়ে\\nনীরব চেয়ে থাকা চোখের\\nআলো ঘিরে থাকবে যেন\\nতোমাকে\\nযা কিছু ছিলো থেমে থাকা\\nআবার থামবে এই বিদায়ে\\nআমার অপার সীমানাতে\\nতোমার চিহ্ন তবু রবে\\nবেঁচে\\nতোমাকে আলো ভেবে\\nচোখ চেয়ে থেকেছি আঁধারে\\nনীরব থেকে\\nডেকেছি আমার একা\\nনির্জনে\\nস্বপ্নগুলো হারিয়ে\\nফেলে\\nচেয়েছি ফিরে তোমার\\nআলোকে\\n\\nতোমাকে যখনই চেয়েছি\\nস্বত্তার অন্তরালে\\nসংগোপনে\\nতখনই জেনেছি আলো হয়ে\\nআছো তুমি আমার আঁধারে\\nআর যখনই ভেবেছি বাঁধবো\\nসীমা চারপাশে তোমাকে\\nঘিরে\\nতখনই ফেলেছি হারিয়ে\\nতোমাকে\\nআপন আঁধারে\\n\\nযেখানে স্বর্গ ভাসে\\nতোমার আমার আকাশ সেখানে\\nঅন্য রঙে আঁকা আয়নায়\\nমৃত জলছবি\\nসেই ছবিতে অন্ধ কবি আমি\\nএক\\nহাতড়ে ফিরি আলোর সিড়ি\\n\\nতোমাকে যখনই চেয়েছি\\nস্বত্তার অন্তরালে\\nসংগোপনে\\nতখনই জেনেছি আলো হয়ে\\nআছো তুমি আমার আঁধারে\\nআর যখনই ভেবেছি বাঁধবো\\nসীমা চারপাশে তোমাকে\\nঘীরে\\nতখনই ফেলেছি হারিয়ে\\nতোমাকে আপন আঁধারে\\nতোমাকে\\nতোমাকে\\nতোমার জন্য পৃথিবী আজ\\nনিয়েছে বিদায়\\nতবুও তোমার টুকরো\\nছায়ায়\\nডুবে আছে কত মিথ্যে\\nআগুন অন্ধকারময়\\nকত স্মৃতি, কত সময়\\n\\nতোমার জন্য পৃথিবীতে\\nআজকে ছুটির রোদ\\nনিজের মাঝে তোমায়\\nখোঁজা\\nআকাশ নীলে তাকিয়ে থাকা\\n\\nতোমার জন্য পৃথিবী আজ\\nনিয়েছে বিদায়\\nমেঘাচ্ছন্ন ব্যস্ত\\nঢাকায়\\nমানুষগুলো শূন্য চোখে\\nদুঃখ দ্বিধায়\\nআকাশ পানে তাকায়\\n\\nতোমার জন্য পৃথিবীতে\\nথেমে যায় সময়\\nআমার দেহে রাত্রি\\nনামায়\\nমিথ্যে আগুন\\nঅন্ধকারময়\\n\\nভিড়ের মাঝে আবার ভীড়ে\\nআমার শরীর মেশে কোলাহলে\\nদুঃখ ভুলে মিশে যাই\\nমুখোশ স্রোতে\\n\\nঅনেক দূরের একলা পথে\\nক্লান্ত আমি ফিরি তোমার\\nকাছে\\nমুখোশ খুলে বসে রই\\nজানলা ধরে\\nআমার গানের শব্দ সুরের\\nঅন্তরালে\\nতোমায় আঁকি কান্না\\nচেপে\\nমহাকালের ক্লান্ত পথে\\n\\nতোমার জন্য বৃষ্টি ঝরে\\nআমার লেখায়\\nআলোর মতন মিথ্যে\\nছায়ায়\\nপাথর হয়ে ঘুরে মরে\\nআমার হৃদয়\\nকত স্মৃতি, কত মিথ্যে\\nভয়\\n\\nতোমার জন্য গলার ভেতর\\nআটকে থাকে ক্রোধ\\nআমার চোখে স্মৃতির ঘোলা\\nজল\\nনির্জনতায় তোমার\\nকোলাহল\\n\\nতোমার না থাকা অস্তিত্ব\\nরয়ে গেছে আমার\\nনিঃশ্বাসে\\nফেলে আসা এই পথে দু'জনেই\\nএকসাথে\\nআমার অবশ অনুভূতির\\nদেয়াল জুড়ে কত সময়\\nহেঁটে এসে আমরা দু'জন\\nহারিয়েছি পথ কোথায়\\nকখন\\n\\nআমার দেহে খুঁজে ফিরি\\nতোমার অনুভূতি\\nতোমার চোখের দূরের আকাশ\\nমিশে থাকে রূপক হয়ে\\nতোমার জন্য বিষণ্ণ এক\\nনিথর হৃদয়\\nআমার ভেতর দাঁড়ায় সরব\\nএকা\\n\\nতোমার পৃথিবী স্বর্গের\\nমতো চির অদেখা\\nতোমার পৃথিবী স্বর্গের\\nমতো চির অদেখা\\n\\nতোমার জন্য পথ হারিয়ে\\nঅজানায়\\nতবুও তোমার লেখায়\\nকথায়\\nফেরে ক্লান্ত আমার অলস\\nসময়\\nকত স্মৃতি অন্ধকারময়\\nআমার পথ চলা আমার পথে\\nযেন বেলা শেষে আকাশ কার\\nমোহে\\nআমার স্বপ্ন আমার সাথে\\nযেন স্বপ্নে ফিরে আসে\\nস্বপ্ন হয়ে\\nখুঁজে পায় জীবনের তীর\\nজীবনকে কোনো স্বপ্ন\\nভেবে\\n\\nআমি কার আশাতে\\nছুটে চলি পথে পথে\\nযেন কার মায়াতে\\nবাধা পড়েছে জীবন যে\\nকত সুখ কল্পনা\\nকত মিথ্যে প্রলোভন\\nকষ্টের প্রতিটি ক্ষণ\\nশোনায় তার আহ্বান\\n\\nআমার আলোয় আলোকিত\\nহতে চেয়ে আধাঁরে মিলিয়ে\\nআমার স্বপ্ন আমার সাথে\\nযেন স্বপ্নে ফিরে আসে\\nস্বপ্ন হয়ে\\nখুঁজে পায় জীবনের তীর\\nজীবনকে কোনো স্বপ্ন\\nভেবে\\n\\nআমি কার আশাতে\\nছুটে চলি পথে পথে\\nযেন কার মায়াতে\\nবাধা পড়েছে জীবন যে\\nকত সুখ কল্পনা\\nকত মিথ্যে প্রলোভন\\nকষ্টের প্রতিটি ক্ষণ\\nশোনায় তার আহ্বান\\n\\nআমি আজ নেই তবু\\nকত সুর ওঠে বেজে\\nতোমার ঐ গানের মাঝে\\n\\nএই পথ গেছে মিশে\\nআমার বেলা শেষে\\nস্বপ্ন ফিরে আসে\\nপৃথিবীর দূর দেশে\\nজীবনকে কোনো এক স্বপ্ন\\nভেবে\\n\\nআমি কার আশাতে\\nছুটে চলি পথে পথে\\nযেন কার মায়াতে\\nবাধা পড়েছে জীবন যে\\nকত সুখ কল্পনা\\nকত মিথ্যে প্রলোভন\\nকষ্টের প্রতিটি ক্ষণ\\n\\nশোনায় তার আহ্বান (আমি\\nকার আশাতে\\nছুটে চলি পথে পথে\\nযেন কার মায়াতে\\nবাধা পড়েছে জীবন যে)\\nআহ্বান (কত সুখ কল্পনা\\nকত মিথ্যে প্রলোভন\\nকষ্টের প্রতিটি ক্ষণ\\nশোনায় তার আহ্বান)\\n\\nসমাধির বিশাল\\nপ্রান্তরে একা জেগে\\nআমাদের তথাকথিত\\nসভ্যতার যীশু\\nধার করা কবিতার শ্যাওলা\\nমাখা স্মৃতির পাথরে\\nমুখ থুবড়ে পড়ে থাকে এ\\nমূল্যবোধ\\n\\nসাদা ক্রুশের মিছিল\\nজুড়ে মিথ্যে অহংকার\\nভুল নায়কের ছদ্মবেশে\\nনেয় নিঃশ্বাস\\nসম্মোহিত মৃত প্রজন্ম\\nফিরে আসে\\nফিরে আসে জন্মান্তরে\\nবিবর্তনে\\n\\nআড়ালে হেসে যায়\\nযুদ্ধের দেবতা\\nধ্বংসের সুর তোলে আবারও\\nপৃথিবীর বুকে আবাস গড়ে\\nনতুন কোনো পাথর বাগান\\nআমাদের যত জানা ইতিহাস\\nসে তো শেখা\\nরুপালি পর্দায় আলোর\\nমায়ায়\\nভুলে যাওয়া হিংসার\\nছায়ায়\\n\\nআড়ালে হেসে যায়\\nযুদ্ধের দেবতা\\nধ্বংসের সুর তোলে আবারো\\nপৃথিবীর বুকে আবাস গড়ে\\nনতুন কোনো পাথর বাগান\\n\\nতোমাদের পাথর বাগানের\\nসবুজ ঘাসে\\nমিশে থাকে কত যুগের\\nনষ্ট গল্প\\nযত পতাকার রং ধুয়ে\\nযায় অভিশাপে\\nআকাশের সাদা অনুভূতিতে\\nশুধু ঘৃণা\\n\\nছায়ার বর্ণমালা আলোর\\nকাছাকাছি আসে\\nআলোর রুদ্ধ আকাশ আঁকে\\nমৃত্যু শূন্যতায়\\n\\nএকা একা তবু দূরের\\nদূরত্ব ভেঙ্গে\\nসকল স্মৃতির ছেঁড়া মেঘ\\nথাকে\\n\\nছায়ায় আঁকা স্মৃতির ঘরে\\nভয়ের মতো অন্ধকারে\\nআলোয় আঁকা রুদ্ধ আকাশ\\nমৃত্যু এঁকে রাখে\\nতবু ঘড়ির বন্ধ সময়\\nশরৎ খোঁজে নীল আকাশে\\nস্মৃতির পায়ে শেকল\\nবেঁধে\\nসময় দাঁড়ায় শরীর ঘেষে\\n\\nস্বরব শব্দ সুরে অরব\\nশূন্যতা ভাঙ্গে\\nমানুষ মুখোশ\\nত্রিমাত্রিক বোধে\\nছায়ার সারথি গড়ে\\n\\nসবুজ পৃথিবীর হাজার শহর\\nশেষে\\nএকা মানব মুখোশ বেঁচে\\nথাকে\\n\\nছায়ায় আঁকা স্মৃতির ঘরে\\nভয়ের মতো অন্ধকারে\\nআলোয় আঁকা রুদ্ধ আকাশ\\nমৃত্যু এঁকে রাখে\\nতবু ঘড়ির বন্ধ সময়\\nশরৎ খোঁজে নিল আকাশে\\nস্মৃতির পায়ে শেকল\\nবেঁধে\\nসময় দাঁড়ায় শরীর ঘেষে\\n\\nছায়ায় আঁকা স্মৃতির ঘরে\\nভয়ের মতো অন্ধকারে\\nআলোয় আঁকা রুদ্ধ আকাশ\\nমৃত্যু এঁকে রাখে\\nতীক্ষ্ণ ভাবনার পাথর\\nঘরে\\nযুদ্ধ আসে, যুদ্ধ আসে\\nমানুষ মুখোশ অগোচরে\\nআলো দিয়ে ছায়া আঁকে\\n\\nছায়ার বর্ণমালা ছায়ার\\nকোরাসে\\nযুদ্ধ আসে, যুদ্ধ আসে\\nকাটাতারে ছেঁড়া আকাশ\\nবিঁধে আছে\\nস্বপ্ন জুড়ে কে মৃত্যু\\nএঁকে রাখে?\\n\\nমুখোশে আমায় যেমন দেখ\\nপরিচ্ছন্ন তোমার মত\\nমুখোশে আমার শরীর ঢাকা\\nতোমার চোখেও মুখোশ আঁকা\\n\\nযতই মিথ্যের দেয়াল গড়ি\\nতোমার আমার চারপাশে\\nনিজের আয়নায়\\nমুখোঁশবিহীন\\nপড়ে থাকি গল্প শেষে আমি\\nজানালার ভেতরে বাহিরে\\nদুজন\\nদেয়ালের কাছাকাছি যাই\\nদেয়ালে বাঁধা সস্তা\\nজীবন\\nনিজের আয়নায় একলা\\nদাঁড়াই\\n\\nমুখোঁশ যাকে তুমি চেন\\nচেন না যাকে\\nমুখোঁশবিহীন\\nআমরা দুজন সত্য পুরুষ\\nনিজের ভেতর দুজনেই\\nপরাধীন\\nশুণ্যতায় প্রশ্ন থেকে\\nদাঁড়ায়\\nমনের খোলা ঘরে\\nদেয়ালে চৌকাঠে আয়নায়\\nকে সত্য? তুমি না আমি?...\\n\\nকালো মেঘে ঘেরা\\nপৃথিবীতে\\nকৈশোর বয়সেই\\nআমি শিখেছি নিজেকে\\nচিনতে\\nঅন্যের দৃষ্টিতে\\n\\nযাযাবর আমি পৃথিবীতে\\nমানুষের রূপ ধরে\\nআমি দেখেছি মানুষের\\nহাতে\\nগড়তে দেবতারে\\n\\nঅন্যায় আর অবিচারের\\nকালিমা বুকে নিয়ে\\nআকাশ এখানে মাথা তুলে\\nদাঁড়াতে ভুলে গেছে\\n\\nসব সকাল রাতেরই মাঝে\\nবিলীন হয় অবশেষে\\nমানুষ শুধু বেঁচে থাকে\\nঅন্য মানুষের মাঝে\\n\\nবিষাক্ত বাতাস\\nচারিদিকে আমাকে আঁকড়ে\\nধরে\\nআছে আমার আত্মবিশ্বাস\\nবাস্তবতার আঘাতে\\nভেঙ্গে গেছে\\nস্বপ্নগুলো রাতের\\nঅন্ধকারে\\nচারিদিকে এখন শুধু\\nহাহাকার শুনি\\n\\nআমাকে ছেড়ে গেছে চলে\\nআমার অতীত স্মৃতিগুলো\\nআমার দেহে আছে পড়ে\\nঅপমানের শত চিহ্ন\\nএখনো আমি আছি বেঁচে\\nযেন কৃত্রিম মানুষ হয়ে\\nআমার চারিধারে জ্বলছে\\nআগুন\\nআমার জ্বালানো...\\n\\nএই বৃষ্টি ভেজা রাতে\\nতুমি নেই বলে\\nসময় আমার কাটে না\\nচাঁদ কেনো আলো দেয় না\\nপাখি কেনো গান গায় না\\nতারা কেনো পথ দেখায় না\\nতুমি কেনো কাছে আসো না?\\n\\nএই বৃষ্টি ভেজা রাতে\\nতুমি নেই বলে\\nসময় আমার কাটে না\\nচাঁদ কেনো আলো দেয় না\\nপাখি কেনো গান গায় না\\nতারা কেনো পথ দেখায় না\\nতুমি কেনো কাছে আসো না?\\n\\nসমুদ্রের ঝড়ো হাওয়া বলে\\nতারা তোমাকে চায়, তারা\\nতোমাকে চায়\\nপাখি মৃদু কন্ঠে বলে\\nতারা তোমাকে চায়, তারা\\nতোমাকে চায়\\nএই শরতেরই সন্ধ্যায়\\nতুমি নেই বলে\\nসময় আমার কাটে না\\nকাশফুল কেনো ফুটে না,\\nছুয়ে ছুয়ে যায় না\\nমেঘের ভেলায় ভাসেনা\\nভেসে তুমি কেনো আসো না?\\n\\nঝরে যাওয়া সব অশ্রু বলে\\nতারা তোমাকে চায়, তারা\\nতোমাকে চায়\\nহৃদয়ের যত অনুভুতি আছে\\nতারা তোমাকে চায়, তারা\\nতোমাকে চায়\\nএই বসন্তেরই সন্ধ্যায়\\nতুমি নেই বলে\\nসময় আমার কাটে না\\nফুলগুলো কেনো হাসেনা,\\nহৃদয়ে দোলা দেয়না\\nআবেশেতে জড়ায়না\\nতুমি কেনো কাছে আসোনা?\\n\\nএই বৃষ্টি ভেজা রাতে\\nতুমি নেই বলে\\nসময় আমার কাটে না\\nচাঁদ কেনো আলো দেয় না\\nপাখি কেনো গান গায় না\\nতারা কেনো পথ দেখায় না\\nতুমি কেনো কাছে আসো না?\\n\\nযা দেখো, যা দেখো না\\nভাঙ্গে যত অনুভূতি চেনা\\nঅচেনা\\nতোমার অনাগত সম্ভাবনায়\\nজমে ঘুণপোকার আর্তনাদ\\n\\nতোমার নীল আকাশ শূন্য\\nচোখে চেয়ে থাকে\\nঅন্ধকার দেয়ালে\\nতোমার আলো জন্ম দেয়\\nমিথ্যে ছায়াকে\\nসম্মোহিত সময়ে\\n\\nতোমার জানালায় নীল আকাশ\\n\\nআঁধারে নয়, আলোতে ভয়\\nদৃশ্যগুলো শব্দময়\\nশূন্যতায় ভীড়ে\\nহারিয়েছে\\nস্তব্ধ সময়\\nস্বপ্নময়, ঘুমে নয়\\nশব্দগুলো দৃশ্যময়\\nশূন্যতায় নির্বাসিত রয়\\nস্তব্ধ সময়\\n\\nছায়াদের বাঁধা চোখে\\nচোখে ফেরে\\nসময়ের নির্বাসিত নীল\\nআকাশ\\nঅন্ধকার ভেঙ্গে গড়ে আজ\\nশব্দ করে ইতিহাস\\n\\nতোমার নীল আকাশ শূন্য\\nচোখে চেয়ে থাকে\\nঅন্ধকার দেয়ালে\\nতোমার আলো জন্ম দেয়\\nমিথ্যে ছায়াকে\\nসম্মোহিত সময়ে\\n\\nতোমার জানালায় নীল আকাশ\\n\\nআঁধারে নয়, আলোতে ভয়\\nদৃশ্যগুলো শব্দময়\\nশূন্যতায় ভীড়ে\\nহারিয়েছে\\nস্তব্ধ সময়\\nস্বপ্নময়, ঘুমে নয়\\nশব্দগুলো দৃশ্যময়\\nশূন্যতায় নির্বাসিত রয়\\nস্তব্ধ সময়\\n\\nতোমার মৃত স্বপ্নের\\nদৃশ্য আজও ওড়ে\\nবাতাসে বিগত সময় শব্দ\\nকরে\\nভুলের চেনা শরীর চেনে\\nকি তোমাকে?\\nএখানে কে দাঁড়ায় ছায়ায়\\nমিছিলে?\\n\\nএকই অতীত, একই সময়\\nকেন তবু এই পথের শেষে\\nজড় অনুভূতি, কেন মেঘে\\nঢাকা পড়ে ছেঁড়া আকাশ\\n\\nআঁধারে নয়, আলোতে ভয়\\nদৃশ্যগুলো শব্দময়\\nশূন্যতায় ভীড়ে\\nহারিয়েছে\\nস্তব্ধ সময়\\nস্বপ্নময়, ঘুমে নয়\\nশব্দগুলো দৃশ্যময়\\nশূন্যতায় নির্বাসিত রয়\\nস্তব্ধ সময়\\n\\nলীন জড়তায়, নীল আকাশে\\nঝড় বাঁধা পড়ে, ভাঙা\\nমানুষে\\n\\nভিজে সময় একা আঁধারে\\nভেসে গেছে রোদের রেখা\\nভেসে গেছে, রোদে ভেসে\\nগেছে\\n\\nলীন আকাশে (দূর বহুদূর\\nথেমে থাকা আকাশে)\\nনীলে হারিয়ে (সাদা\\nকালো মেঘ ভেসে যায়\\nহারিয়ে)\\nঝড়ো বাতাসে (ধুলো জমা\\nস্মৃতি উড়ে যায়\\nবাতাসে)\\nঝড় বাঁধা পড়ে ভাঙা\\nমানুষে\\n\\nভিজে সময় একা আঁধারে\\nভেসে গেছে রোদের রেখা\\nভেসে গেছে, রোদে ভেসে\\nগেছে\\n\\nভিজে সময় একা আঁধারে\\nভেসে গেছে রোদের রেখা\\nভেসে গেছে, রোদে ভেসে\\nগেছে\\n\\nতোমার জন্য পৃথিবী আজ\\nনিয়েছে বিদায়\\nতবু তোমার টুকরো\\nছায়ায়\\nডুবে আছে কত মিথ্যে\\nআগুন অন্ধকারময়\\nকত স্মৃতি, কত সময়\\nতোমার জন্য পৃথিবীতে\\nআজকে ছুটির রোদ\\nনিজের মাঝে তোমায়\\nখোঁজা\\nআকাশ নীলে তাকিয়ে থাকা\\n\\nতোমার জন্য পৃথিবী আজ\\nনিয়েছে বিদায়\\nমেঘাচ্ছন্ন ব্যস্ত\\nঢাকায়\\nমানুষগুলো শূন্য চোখে\\nদুঃখ দ্বিধায়\\nআকাশ পানে তাকায়\\nতোমার জন্য পৃথিবীতে\\nথেমে যায় সময়\\nআমার দেহে রাত্রি\\nনামায়\\nমিথ্যে আগুন\\nঅন্ধকারময়\\n\\nভিড়ের মাঝে আবার ভিড়ে\\nআমার শরীর মেশে কোলাহলে\\nদুঃখ ভুলে মিশে যাই\\nমুখোশ স্রোতে\\nঅনেক দূরের একলা পথে\\nক্লান্ত আমি ফিরি তোমার\\nকাছে\\nমুখোশ খুলে বসে রই\\nজানলা ধরে\\n\\nআমার গানের শব্দ সুরের\\nঅন্তরালে\\nতোমায় আঁকি কান্না\\nচেপে\\nমহাকালের ক্লান্ত পথে\\n\\nতোমার জন্য বৃষ্টি ঝরে\\nআমার লেখায়\\nআলোর মতন মিথ্যে\\nছায়ায়\\nপাথর হয়ে ঘুরে মরে\\nআমার হৃদয়\\nকত স্মৃতি, কত মিথ্যে\\nভয়\\nতোমার জন্য গলার ভেতর\\nআটকে থাকে ক্রোধ\\nআমার চোখে স্মৃতির ঘোলা\\nজল\\nনির্জনতায় তোমার\\nকোলাহল\\n\\nতোমার না থাকা অস্তিত্ব\\nরয়ে গেছে আমার\\nনিঃশ্বাসে\\nফেলে আসা এই পথে দু'জনেই\\nএকসাথে\\n\\nআমার অবশ অনুভূতির\\nদেয়াল জুড়ে কত সময়\\nহেঁটে এসে আমরা দু'জন\\nহারিয়েছি পথ কোথায়\\nকখন\\n\\nআমার দেহে খুঁজে ফিরি\\nতোমার অনুভূতি\\nতোমার চোখের দূরের আকাশ\\nমিশে থাকে রূপক হয়ে\\nতোমার জন্য বিষণ্ণ এক\\nনিথর হৃদয়\\nআমার ভেতর দাঁড়ায় সরব\\nএকা\\nতোমার পৃথিবী স্বর্গের\\nমতো চির অদেখা\\nতোমার পৃথিবী স্বর্গের\\nমতো চির অদেখা\\n\\nতোমার জন্য পথ হারিয়ে\\nঅজানায়\\nতবু তোমার লেখায় কথায়\\nফেরে ক্লান্ত আমার অলস\\nসময়\\nকত স্মৃতি অন্ধকারময়\\n\\nচারটি দেয়াল ক্রমশ\\nসরে আসে বৃত্তের ভেতরে\\nকমে আসে আলো\\nবস্তুর চারিপাশ এখন\\nনীরব\\nরঙ মূলত সাদা কালো\\nঅন্ধকারের\\nছায়া-অপছায়া বোধ\\n\\nঅথবা খয়েরী নীল আকাশ\\nঅনেকটা ঘুণে খাওয়া রোদ\\nলেগে থাকে আকাশের গায়ে\\nসময়ের রঙহীন ক্যানভাস\\nআমার জানালায়\\n\\nস্বপ্ন এখন এগারো সাতাশ\\nশুন্যের ওপর দেখ, দেখ\\nদাঁড়ায়\\nসম্মোহিত শহর\\nবাতাসের চোখে আজ, চোখে\\nআজ\\nনেশার উৎকট আলো\\nরঙ মূলত সাদা কালো\\nঅন্ধকারের\\nছায়া-অপছায়া বোধ\\n\\nঅথবা খয়েরী নীল আকাশ\\nঅনেকটা ঘুণে খাওয়া রোদ\\nলেগে থাকে আকাশের গায়ে\\nবিবর্ণ সময়ের\\nজানালায় আজ ঘুণে\\nখাওয়া রোদ\\n\\nআমার শরীর মানে আমি\\nও ছায়া-ছায়া মানে মৃত\\nরোদ\\nআত্মহুতি দেয় তাদের\\nআলোর যৌবন সারাক্ষণ\\nমেঘে মেঘে ঢাকা পড়ে\\nচেনা অচেনা কত মুখ\\nছায়ার শরীর ছায়ায়\\nবাঁচে আলোর ভয়\\nজানালায় আজ ঘুণে\\nখাওয়া রোদ\\n\\nআবার দেখা দেয় আলো\\nঅন্ধকারের থাকে নিজস্ব\\nশরীর\\nআলোর স্বপ্নগুলো\\nলেখা আছে হাজার বছরের\\nগায়\\nআলোর পৃথিবী কোথায়?\\n\\nভাবনার রুদ্ধ ঘরে একা\\nবসে ভাবি\\nঅন্ধকার দূরের দিকে\\nখুঁজি তোমাকে\\nভাবনার রুদ্ধ ঘরে একা\\nবসে ভাবি\\nঅন্ধকার দূরের দিকে\\nখুঁজি তোমাকে\\n\\nআকাশের শেষে কি থাকে?\\nকোথায় পড়ে আছে আমার\\nস্বদেশ?\\nঅন্ধ চোখে আলো কি শরীর\\nপায়?\\nএখানে আমি বিকলাঙ্গ\\nপাথর\\n\\nতোমার সাজানো দৃশ্যে\\nহাঁটছি গন্তব্যহীন\\nসমাহিত সময়ের রাত্রির\\nনক্ষত্রকে খুঁজি\\nঅসীম শূন্যতায় এখানে\\nপড়ে থাকে\\nপাথরের মত স্থবির মানুষ\\nশেখানো বর্ণনায়\\n\\nদৃশ্যকে ভাবি পৃথিবী\\nস্বপ্নকে ভাবি তুমি\\nমৃত্যুকে মনে হয় গভীর\\nঘুম\\nআঁধারকে ঈশ্বর ভাবি\\n\\nদৃশ্যকে ভাবি পৃথিবী\\nস্বপ্নকে ভাবি তুমি\\nমৃত্যুকে মনে হয় গভীর\\nঘুম\\nআঁধারকে ঈশ্বর ভাবি\\nসকল আলোর প্রথম উৎস কি\\nঅনিশ্চিত আঁধারে?\\n\\nআকাশের শেষে কি থাকে?\\nকোথায় পড়ে আছে আমার\\nস্বদেশ?\\nঅন্ধ চোখে আলো কি শরীর\\nপায়?\\nএখানে আমি বিকলাঙ্গ\\nপাথর\\n\\nতোমাকে এঁকেছি প্রতিটি\\nদৃশ্যের রেখাবৃত্তে\\nতোমার স্বপ্নকে আমি\\nদিয়েছি প্রাণ\\nআমার স্বপ্নে তোমার\\nকরাঘাত\\n\\nনিজেকে হয়না চেনা আজও\\nশুধু নেমেছি অতলে\\nএখানে একা বসে কতকাল\\nভীত রাত্রিকে ডেকে দেয়\\nবীভৎস আমার মুখ\\nঅশরীর আমি, নিজেকে আজও\\nভয়\\n\\n\\n\""
            ]
          },
          "metadata": {
            "tags": []
          },
          "execution_count": 4
        }
      ]
    },
    {
      "cell_type": "code",
      "metadata": {
        "id": "KckU4LmeKhh3",
        "colab_type": "code",
        "colab": {}
      },
      "source": [
        "tokenizer = Tokenizer()\n",
        "corpus = data.split(\"\\n\")\n",
        "tokenizer.fit_on_texts(corpus)\n",
        "total_words = len(tokenizer.word_index) + 1\n",
        "\n",
        "input_sequences = []\n",
        "for line in corpus:\n",
        "\ttoken_list = tokenizer.texts_to_sequences([line])[0]\n",
        "\tfor i in range(1, len(token_list)):\n",
        "\t\tn_gram_sequence = token_list[:i+1]\n",
        "\t\tinput_sequences.append(n_gram_sequence)\n",
        "\n",
        "max_sequence_len = max([len(x) for x in input_sequences])\n",
        "input_sequences = np.array(pad_sequences(input_sequences, padding='pre'))\n",
        "\n",
        "predictors, label = input_sequences[:,:-1],input_sequences[:,-1]\n",
        "label = ku.to_categorical(label, num_classes=total_words)"
      ],
      "execution_count": 5,
      "outputs": []
    },
    {
      "cell_type": "code",
      "metadata": {
        "id": "r8RtIookKg1w",
        "colab_type": "code",
        "colab": {
          "base_uri": "https://localhost:8080/",
          "height": 366
        },
        "outputId": "60ff293a-ebc3-441a-940e-07af40f3a876"
      },
      "source": [
        "model = Sequential()\n",
        "model.add(Embedding(total_words, 120))\n",
        "model.add(Bidirectional(LSTM(150, return_sequences = True)))\n",
        "model.add(Bidirectional(LSTM(120)))\n",
        "model.add(Dense(total_words/2, activation='relu'))\n",
        "model.add(Dense(total_words, activation='softmax'))\n",
        "model.compile(loss='categorical_crossentropy', optimizer='rmsprop', metrics=['accuracy'])\n",
        "print(model.summary())"
      ],
      "execution_count": 6,
      "outputs": [
        {
          "output_type": "stream",
          "text": [
            "Model: \"sequential\"\n",
            "_________________________________________________________________\n",
            "Layer (type)                 Output Shape              Param #   \n",
            "=================================================================\n",
            "embedding (Embedding)        (None, None, 120)         111600    \n",
            "_________________________________________________________________\n",
            "bidirectional (Bidirectional (None, None, 300)         325200    \n",
            "_________________________________________________________________\n",
            "bidirectional_1 (Bidirection (None, 240)               404160    \n",
            "_________________________________________________________________\n",
            "dense (Dense)                (None, 465)               112065    \n",
            "_________________________________________________________________\n",
            "dense_1 (Dense)              (None, 930)               433380    \n",
            "=================================================================\n",
            "Total params: 1,386,405\n",
            "Trainable params: 1,386,405\n",
            "Non-trainable params: 0\n",
            "_________________________________________________________________\n",
            "None\n"
          ],
          "name": "stdout"
        }
      ]
    },
    {
      "cell_type": "code",
      "metadata": {
        "id": "RIJM6Mp7rA9D",
        "colab_type": "code",
        "colab": {
          "base_uri": "https://localhost:8080/",
          "height": 1000
        },
        "outputId": "3c5a5207-0467-43ee-b357-7d2c5df54ffe"
      },
      "source": [
        "history = model.fit(predictors, label, epochs=150, verbose=1)"
      ],
      "execution_count": 7,
      "outputs": [
        {
          "output_type": "stream",
          "text": [
            "Epoch 1/150\n",
            "62/62 [==============================] - 1s 11ms/step - loss: 6.6442 - accuracy: 0.0122\n",
            "Epoch 2/150\n",
            "62/62 [==============================] - 1s 11ms/step - loss: 6.2062 - accuracy: 0.0148\n",
            "Epoch 3/150\n",
            "62/62 [==============================] - 1s 11ms/step - loss: 6.0285 - accuracy: 0.0127\n",
            "Epoch 4/150\n",
            "62/62 [==============================] - 1s 11ms/step - loss: 5.8265 - accuracy: 0.0158\n",
            "Epoch 5/150\n",
            "62/62 [==============================] - 1s 11ms/step - loss: 5.6142 - accuracy: 0.0209\n",
            "Epoch 6/150\n",
            "62/62 [==============================] - 1s 11ms/step - loss: 5.3764 - accuracy: 0.0240\n",
            "Epoch 7/150\n",
            "62/62 [==============================] - 1s 11ms/step - loss: 5.1697 - accuracy: 0.0362\n",
            "Epoch 8/150\n",
            "62/62 [==============================] - 1s 11ms/step - loss: 4.9707 - accuracy: 0.0479\n",
            "Epoch 9/150\n",
            "62/62 [==============================] - 1s 11ms/step - loss: 4.7796 - accuracy: 0.0561\n",
            "Epoch 10/150\n",
            "62/62 [==============================] - 1s 11ms/step - loss: 4.5605 - accuracy: 0.0754\n",
            "Epoch 11/150\n",
            "62/62 [==============================] - 1s 11ms/step - loss: 4.3355 - accuracy: 0.0943\n",
            "Epoch 12/150\n",
            "62/62 [==============================] - 1s 11ms/step - loss: 4.1144 - accuracy: 0.1137\n",
            "Epoch 13/150\n",
            "62/62 [==============================] - 1s 11ms/step - loss: 3.9041 - accuracy: 0.1391\n",
            "Epoch 14/150\n",
            "62/62 [==============================] - 1s 11ms/step - loss: 3.6943 - accuracy: 0.1656\n",
            "Epoch 15/150\n",
            "62/62 [==============================] - 1s 11ms/step - loss: 3.4984 - accuracy: 0.1967\n",
            "Epoch 16/150\n",
            "62/62 [==============================] - 1s 11ms/step - loss: 3.2866 - accuracy: 0.2370\n",
            "Epoch 17/150\n",
            "62/62 [==============================] - 1s 11ms/step - loss: 3.0669 - accuracy: 0.2625\n",
            "Epoch 18/150\n",
            "62/62 [==============================] - 1s 11ms/step - loss: 2.8663 - accuracy: 0.2982\n",
            "Epoch 19/150\n",
            "62/62 [==============================] - 1s 11ms/step - loss: 2.6593 - accuracy: 0.3461\n",
            "Epoch 20/150\n",
            "62/62 [==============================] - 1s 11ms/step - loss: 2.4622 - accuracy: 0.3863\n",
            "Epoch 21/150\n",
            "62/62 [==============================] - 1s 11ms/step - loss: 2.3178 - accuracy: 0.4118\n",
            "Epoch 22/150\n",
            "62/62 [==============================] - 1s 11ms/step - loss: 2.1250 - accuracy: 0.4618\n",
            "Epoch 23/150\n",
            "62/62 [==============================] - 1s 11ms/step - loss: 2.0104 - accuracy: 0.4811\n",
            "Epoch 24/150\n",
            "62/62 [==============================] - 1s 11ms/step - loss: 1.8948 - accuracy: 0.5194\n",
            "Epoch 25/150\n",
            "62/62 [==============================] - 1s 11ms/step - loss: 1.7789 - accuracy: 0.5341\n",
            "Epoch 26/150\n",
            "62/62 [==============================] - 1s 11ms/step - loss: 1.6681 - accuracy: 0.5612\n",
            "Epoch 27/150\n",
            "62/62 [==============================] - 1s 11ms/step - loss: 1.5903 - accuracy: 0.5678\n",
            "Epoch 28/150\n",
            "62/62 [==============================] - 1s 11ms/step - loss: 1.5082 - accuracy: 0.5902\n",
            "Epoch 29/150\n",
            "62/62 [==============================] - 1s 11ms/step - loss: 1.4387 - accuracy: 0.6091\n",
            "Epoch 30/150\n",
            "62/62 [==============================] - 1s 11ms/step - loss: 1.3776 - accuracy: 0.6310\n",
            "Epoch 31/150\n",
            "62/62 [==============================] - 1s 11ms/step - loss: 1.2877 - accuracy: 0.6529\n",
            "Epoch 32/150\n",
            "62/62 [==============================] - 1s 11ms/step - loss: 1.2420 - accuracy: 0.6493\n",
            "Epoch 33/150\n",
            "62/62 [==============================] - 1s 11ms/step - loss: 1.1688 - accuracy: 0.6753\n",
            "Epoch 34/150\n",
            "62/62 [==============================] - 1s 11ms/step - loss: 1.1374 - accuracy: 0.6789\n",
            "Epoch 35/150\n",
            "62/62 [==============================] - 1s 11ms/step - loss: 1.0966 - accuracy: 0.6850\n",
            "Epoch 36/150\n",
            "62/62 [==============================] - 1s 11ms/step - loss: 1.0319 - accuracy: 0.7003\n",
            "Epoch 37/150\n",
            "62/62 [==============================] - 1s 11ms/step - loss: 1.0015 - accuracy: 0.7054\n",
            "Epoch 38/150\n",
            "62/62 [==============================] - 1s 11ms/step - loss: 0.9615 - accuracy: 0.7232\n",
            "Epoch 39/150\n",
            "62/62 [==============================] - 1s 11ms/step - loss: 0.9375 - accuracy: 0.7222\n",
            "Epoch 40/150\n",
            "62/62 [==============================] - 1s 11ms/step - loss: 0.9129 - accuracy: 0.7283\n",
            "Epoch 41/150\n",
            "62/62 [==============================] - 1s 11ms/step - loss: 0.8701 - accuracy: 0.7370\n",
            "Epoch 42/150\n",
            "62/62 [==============================] - 1s 11ms/step - loss: 0.8496 - accuracy: 0.7472\n",
            "Epoch 43/150\n",
            "62/62 [==============================] - 1s 11ms/step - loss: 0.8346 - accuracy: 0.7441\n",
            "Epoch 44/150\n",
            "62/62 [==============================] - 1s 11ms/step - loss: 0.8096 - accuracy: 0.7554\n",
            "Epoch 45/150\n",
            "62/62 [==============================] - 1s 11ms/step - loss: 0.7790 - accuracy: 0.7645\n",
            "Epoch 46/150\n",
            "62/62 [==============================] - 1s 11ms/step - loss: 0.7645 - accuracy: 0.7635\n",
            "Epoch 47/150\n",
            "62/62 [==============================] - 1s 11ms/step - loss: 0.7419 - accuracy: 0.7655\n",
            "Epoch 48/150\n",
            "62/62 [==============================] - 1s 11ms/step - loss: 0.7321 - accuracy: 0.7717\n",
            "Epoch 49/150\n",
            "62/62 [==============================] - 1s 11ms/step - loss: 0.7133 - accuracy: 0.7742\n",
            "Epoch 50/150\n",
            "62/62 [==============================] - 1s 11ms/step - loss: 0.7080 - accuracy: 0.7671\n",
            "Epoch 51/150\n",
            "62/62 [==============================] - 1s 11ms/step - loss: 0.6858 - accuracy: 0.7768\n",
            "Epoch 52/150\n",
            "62/62 [==============================] - 1s 11ms/step - loss: 0.6674 - accuracy: 0.7864\n",
            "Epoch 53/150\n",
            "62/62 [==============================] - 1s 11ms/step - loss: 0.6645 - accuracy: 0.7900\n",
            "Epoch 54/150\n",
            "62/62 [==============================] - 1s 11ms/step - loss: 0.6505 - accuracy: 0.7875\n",
            "Epoch 55/150\n",
            "62/62 [==============================] - 1s 11ms/step - loss: 0.6445 - accuracy: 0.7915\n",
            "Epoch 56/150\n",
            "62/62 [==============================] - 1s 11ms/step - loss: 0.6268 - accuracy: 0.8007\n",
            "Epoch 57/150\n",
            "62/62 [==============================] - 1s 11ms/step - loss: 0.6225 - accuracy: 0.8022\n",
            "Epoch 58/150\n",
            "62/62 [==============================] - 1s 11ms/step - loss: 0.6233 - accuracy: 0.7982\n",
            "Epoch 59/150\n",
            "62/62 [==============================] - 1s 11ms/step - loss: 0.6104 - accuracy: 0.8043\n",
            "Epoch 60/150\n",
            "62/62 [==============================] - 1s 11ms/step - loss: 0.6101 - accuracy: 0.8048\n",
            "Epoch 61/150\n",
            "62/62 [==============================] - 1s 11ms/step - loss: 0.6061 - accuracy: 0.7961\n",
            "Epoch 62/150\n",
            "62/62 [==============================] - 1s 11ms/step - loss: 0.6073 - accuracy: 0.7971\n",
            "Epoch 63/150\n",
            "62/62 [==============================] - 1s 11ms/step - loss: 0.5916 - accuracy: 0.8068\n",
            "Epoch 64/150\n",
            "62/62 [==============================] - 1s 11ms/step - loss: 0.5716 - accuracy: 0.8002\n",
            "Epoch 65/150\n",
            "62/62 [==============================] - 1s 11ms/step - loss: 0.5756 - accuracy: 0.8053\n",
            "Epoch 66/150\n",
            "62/62 [==============================] - 1s 11ms/step - loss: 0.5726 - accuracy: 0.8078\n",
            "Epoch 67/150\n",
            "62/62 [==============================] - 1s 11ms/step - loss: 0.5669 - accuracy: 0.8129\n",
            "Epoch 68/150\n",
            "62/62 [==============================] - 1s 11ms/step - loss: 0.5611 - accuracy: 0.8089\n",
            "Epoch 69/150\n",
            "62/62 [==============================] - 1s 11ms/step - loss: 0.5643 - accuracy: 0.8129\n",
            "Epoch 70/150\n",
            "62/62 [==============================] - 1s 11ms/step - loss: 0.5565 - accuracy: 0.8109\n",
            "Epoch 71/150\n",
            "62/62 [==============================] - 1s 11ms/step - loss: 0.5521 - accuracy: 0.8140\n",
            "Epoch 72/150\n",
            "62/62 [==============================] - 1s 11ms/step - loss: 0.5550 - accuracy: 0.8119\n",
            "Epoch 73/150\n",
            "62/62 [==============================] - 1s 11ms/step - loss: 0.5424 - accuracy: 0.8140\n",
            "Epoch 74/150\n",
            "62/62 [==============================] - 1s 11ms/step - loss: 0.5403 - accuracy: 0.8124\n",
            "Epoch 75/150\n",
            "62/62 [==============================] - 1s 11ms/step - loss: 0.5436 - accuracy: 0.8104\n",
            "Epoch 76/150\n",
            "62/62 [==============================] - 1s 11ms/step - loss: 0.5345 - accuracy: 0.8124\n",
            "Epoch 77/150\n",
            "62/62 [==============================] - 1s 11ms/step - loss: 0.5373 - accuracy: 0.8104\n",
            "Epoch 78/150\n",
            "62/62 [==============================] - 1s 11ms/step - loss: 0.5282 - accuracy: 0.8170\n",
            "Epoch 79/150\n",
            "62/62 [==============================] - 1s 11ms/step - loss: 0.5245 - accuracy: 0.8180\n",
            "Epoch 80/150\n",
            "62/62 [==============================] - 1s 11ms/step - loss: 0.5185 - accuracy: 0.8145\n",
            "Epoch 81/150\n",
            "62/62 [==============================] - 1s 11ms/step - loss: 0.5121 - accuracy: 0.8165\n",
            "Epoch 82/150\n",
            "62/62 [==============================] - 1s 11ms/step - loss: 0.5256 - accuracy: 0.8150\n",
            "Epoch 83/150\n",
            "62/62 [==============================] - 1s 11ms/step - loss: 0.5123 - accuracy: 0.8165\n",
            "Epoch 84/150\n",
            "62/62 [==============================] - 1s 11ms/step - loss: 0.5179 - accuracy: 0.8155\n",
            "Epoch 85/150\n",
            "62/62 [==============================] - 1s 11ms/step - loss: 0.5097 - accuracy: 0.8186\n",
            "Epoch 86/150\n",
            "62/62 [==============================] - 1s 11ms/step - loss: 0.5059 - accuracy: 0.8150\n",
            "Epoch 87/150\n",
            "62/62 [==============================] - 1s 11ms/step - loss: 0.5106 - accuracy: 0.8160\n",
            "Epoch 88/150\n",
            "62/62 [==============================] - 1s 11ms/step - loss: 0.5019 - accuracy: 0.8160\n",
            "Epoch 89/150\n",
            "62/62 [==============================] - 1s 11ms/step - loss: 0.5014 - accuracy: 0.8099\n",
            "Epoch 90/150\n",
            "62/62 [==============================] - 1s 11ms/step - loss: 0.4911 - accuracy: 0.8160\n",
            "Epoch 91/150\n",
            "62/62 [==============================] - 1s 11ms/step - loss: 0.4985 - accuracy: 0.8150\n",
            "Epoch 92/150\n",
            "62/62 [==============================] - 1s 11ms/step - loss: 0.5025 - accuracy: 0.8160\n",
            "Epoch 93/150\n",
            "62/62 [==============================] - 1s 11ms/step - loss: 0.4890 - accuracy: 0.8145\n",
            "Epoch 94/150\n",
            "62/62 [==============================] - 1s 11ms/step - loss: 0.4904 - accuracy: 0.8242\n",
            "Epoch 95/150\n",
            "62/62 [==============================] - 1s 11ms/step - loss: 0.4860 - accuracy: 0.8211\n",
            "Epoch 96/150\n",
            "62/62 [==============================] - 1s 11ms/step - loss: 0.4881 - accuracy: 0.8180\n",
            "Epoch 97/150\n",
            "62/62 [==============================] - 1s 11ms/step - loss: 0.4813 - accuracy: 0.8196\n",
            "Epoch 98/150\n",
            "62/62 [==============================] - 1s 11ms/step - loss: 0.4791 - accuracy: 0.8196\n",
            "Epoch 99/150\n",
            "62/62 [==============================] - 1s 11ms/step - loss: 0.4823 - accuracy: 0.8226\n",
            "Epoch 100/150\n",
            "62/62 [==============================] - 1s 11ms/step - loss: 0.4791 - accuracy: 0.8160\n",
            "Epoch 101/150\n",
            "62/62 [==============================] - 1s 11ms/step - loss: 0.4742 - accuracy: 0.8186\n",
            "Epoch 102/150\n",
            "62/62 [==============================] - 1s 11ms/step - loss: 0.4734 - accuracy: 0.8216\n",
            "Epoch 103/150\n",
            "62/62 [==============================] - 1s 11ms/step - loss: 0.4792 - accuracy: 0.8160\n",
            "Epoch 104/150\n",
            "62/62 [==============================] - 1s 11ms/step - loss: 0.4691 - accuracy: 0.8226\n",
            "Epoch 105/150\n",
            "62/62 [==============================] - 1s 11ms/step - loss: 0.4789 - accuracy: 0.8191\n",
            "Epoch 106/150\n",
            "62/62 [==============================] - 1s 11ms/step - loss: 0.4688 - accuracy: 0.8226\n",
            "Epoch 107/150\n",
            "62/62 [==============================] - 1s 11ms/step - loss: 0.4680 - accuracy: 0.8236\n",
            "Epoch 108/150\n",
            "62/62 [==============================] - 1s 11ms/step - loss: 0.4644 - accuracy: 0.8252\n",
            "Epoch 109/150\n",
            "62/62 [==============================] - 1s 11ms/step - loss: 0.4679 - accuracy: 0.8236\n",
            "Epoch 110/150\n",
            "62/62 [==============================] - 1s 11ms/step - loss: 0.4691 - accuracy: 0.8196\n",
            "Epoch 111/150\n",
            "62/62 [==============================] - 1s 11ms/step - loss: 0.4622 - accuracy: 0.8252\n",
            "Epoch 112/150\n",
            "62/62 [==============================] - 1s 11ms/step - loss: 0.4637 - accuracy: 0.8216\n",
            "Epoch 113/150\n",
            "62/62 [==============================] - 1s 11ms/step - loss: 0.4602 - accuracy: 0.8216\n",
            "Epoch 114/150\n",
            "62/62 [==============================] - 1s 11ms/step - loss: 0.4689 - accuracy: 0.8186\n",
            "Epoch 115/150\n",
            "62/62 [==============================] - 1s 11ms/step - loss: 0.4583 - accuracy: 0.8236\n",
            "Epoch 116/150\n",
            "62/62 [==============================] - 1s 11ms/step - loss: 0.4715 - accuracy: 0.8211\n",
            "Epoch 117/150\n",
            "62/62 [==============================] - 1s 11ms/step - loss: 0.4526 - accuracy: 0.8247\n",
            "Epoch 118/150\n",
            "62/62 [==============================] - 1s 12ms/step - loss: 0.4645 - accuracy: 0.8231\n",
            "Epoch 119/150\n",
            "62/62 [==============================] - 1s 11ms/step - loss: 0.4525 - accuracy: 0.8196\n",
            "Epoch 120/150\n",
            "62/62 [==============================] - 1s 12ms/step - loss: 0.4591 - accuracy: 0.8282\n",
            "Epoch 121/150\n",
            "62/62 [==============================] - 1s 12ms/step - loss: 0.4659 - accuracy: 0.8216\n",
            "Epoch 122/150\n",
            "62/62 [==============================] - 1s 12ms/step - loss: 0.4525 - accuracy: 0.8231\n",
            "Epoch 123/150\n",
            "62/62 [==============================] - 1s 12ms/step - loss: 0.4538 - accuracy: 0.8226\n",
            "Epoch 124/150\n",
            "62/62 [==============================] - 1s 12ms/step - loss: 0.4553 - accuracy: 0.8277\n",
            "Epoch 125/150\n",
            "62/62 [==============================] - 1s 12ms/step - loss: 0.4510 - accuracy: 0.8236\n",
            "Epoch 126/150\n",
            "62/62 [==============================] - 1s 11ms/step - loss: 0.4550 - accuracy: 0.8267\n",
            "Epoch 127/150\n",
            "62/62 [==============================] - 1s 12ms/step - loss: 0.4463 - accuracy: 0.8236\n",
            "Epoch 128/150\n",
            "62/62 [==============================] - 1s 12ms/step - loss: 0.4511 - accuracy: 0.8247\n",
            "Epoch 129/150\n",
            "62/62 [==============================] - 1s 11ms/step - loss: 0.4489 - accuracy: 0.8262\n",
            "Epoch 130/150\n",
            "62/62 [==============================] - 1s 12ms/step - loss: 0.4500 - accuracy: 0.8206\n",
            "Epoch 131/150\n",
            "62/62 [==============================] - 1s 11ms/step - loss: 0.4484 - accuracy: 0.8242\n",
            "Epoch 132/150\n",
            "62/62 [==============================] - 1s 11ms/step - loss: 0.4445 - accuracy: 0.8267\n",
            "Epoch 133/150\n",
            "62/62 [==============================] - 1s 11ms/step - loss: 0.4453 - accuracy: 0.8252\n",
            "Epoch 134/150\n",
            "62/62 [==============================] - 1s 11ms/step - loss: 0.4467 - accuracy: 0.8216\n",
            "Epoch 135/150\n",
            "62/62 [==============================] - 1s 11ms/step - loss: 0.4552 - accuracy: 0.8252\n",
            "Epoch 136/150\n",
            "62/62 [==============================] - 1s 11ms/step - loss: 0.4545 - accuracy: 0.8196\n",
            "Epoch 137/150\n",
            "62/62 [==============================] - 1s 11ms/step - loss: 0.4501 - accuracy: 0.8211\n",
            "Epoch 138/150\n",
            "62/62 [==============================] - 1s 11ms/step - loss: 0.4397 - accuracy: 0.8216\n",
            "Epoch 139/150\n",
            "62/62 [==============================] - 1s 11ms/step - loss: 0.4480 - accuracy: 0.8236\n",
            "Epoch 140/150\n",
            "62/62 [==============================] - 1s 11ms/step - loss: 0.4552 - accuracy: 0.8221\n",
            "Epoch 141/150\n",
            "62/62 [==============================] - 1s 11ms/step - loss: 0.4453 - accuracy: 0.8242\n",
            "Epoch 142/150\n",
            "62/62 [==============================] - 1s 11ms/step - loss: 0.4436 - accuracy: 0.8282\n",
            "Epoch 143/150\n",
            "62/62 [==============================] - 1s 11ms/step - loss: 0.4486 - accuracy: 0.8277\n",
            "Epoch 144/150\n",
            "62/62 [==============================] - 1s 11ms/step - loss: 0.4421 - accuracy: 0.8242\n",
            "Epoch 145/150\n",
            "62/62 [==============================] - 1s 11ms/step - loss: 0.4441 - accuracy: 0.8287\n",
            "Epoch 146/150\n",
            "62/62 [==============================] - 1s 11ms/step - loss: 0.4419 - accuracy: 0.8226\n",
            "Epoch 147/150\n",
            "62/62 [==============================] - 1s 11ms/step - loss: 0.4418 - accuracy: 0.8211\n",
            "Epoch 148/150\n",
            "62/62 [==============================] - 1s 11ms/step - loss: 0.4338 - accuracy: 0.8282\n",
            "Epoch 149/150\n",
            "62/62 [==============================] - 1s 11ms/step - loss: 0.4459 - accuracy: 0.8262\n",
            "Epoch 150/150\n",
            "62/62 [==============================] - 1s 11ms/step - loss: 0.4429 - accuracy: 0.8262\n"
          ],
          "name": "stdout"
        }
      ]
    },
    {
      "cell_type": "code",
      "metadata": {
        "id": "rcXreH5urHwX",
        "colab_type": "code",
        "colab": {
          "base_uri": "https://localhost:8080/",
          "height": 545
        },
        "outputId": "557bedb0-36dd-4048-ca14-dadb68d06a61"
      },
      "source": [
        "import matplotlib.pyplot as plt\n",
        "acc = history.history['accuracy']\n",
        "loss = history.history['loss']\n",
        "\n",
        "epochs = range(len(acc))\n",
        "\n",
        "plt.plot(epochs, acc, 'b', label='Training accuracy')\n",
        "plt.title('Training Accuracy')\n",
        "plt.figure()\n",
        "\n",
        "plt.plot(epochs, loss, 'b', label='Training Loss')\n",
        "plt.title('Training loss')\n",
        "plt.legend()\n",
        "\n",
        "plt.show()"
      ],
      "execution_count": 8,
      "outputs": [
        {
          "output_type": "display_data",
          "data": {
            "image/png": "[encoded data removed]",
            "text/plain": [
              "<Figure size 432x288 with 1 Axes>"
            ]
          },
          "metadata": {
            "tags": [],
            "needs_background": "light"
          }
        },
        {
          "output_type": "display_data",
          "data": {
            "image/png": "[encoded data removed]",
            "text/plain": [
              "<Figure size 432x288 with 1 Axes>"
            ]
          },
          "metadata": {
            "tags": [],
            "needs_background": "light"
          }
        }
      ]
    },
    {
      "cell_type": "code",
      "metadata": {
        "id": "IN96VEUdr7Rq",
        "colab_type": "code",
        "colab": {
          "base_uri": "https://localhost:8080/",
          "height": 110
        },
        "outputId": "48eb3704-5014-4d6e-e2b4-fa41f71e7b2c"
      },
      "source": [
        "seed_text = \"আজ\"\n",
        "next_words = 60\n",
        "\n",
        "for _ in range(next_words):\n",
        "\ttoken_list = tokenizer.texts_to_sequences([seed_text])[0]\n",
        "\ttoken_list = pad_sequences([token_list], maxlen=max_sequence_len-1, padding='pre')\n",
        "\tpredicted = model.predict_classes(token_list, verbose=0)\n",
        "\toutput_word = \"\"\n",
        "\tfor word, index in tokenizer.word_index.items():\n",
        "\t\tif index == predicted:\n",
        "\t\t\toutput_word = word\n",
        "\t\t\tbreak\n",
        "\tseed_text += \" \" + output_word\n",
        "print(seed_text)"
      ],
      "execution_count": 9,
      "outputs": [
        {
          "output_type": "stream",
          "text": [
            "WARNING:tensorflow:From <ipython-input-9-be9b6b8b30ca>:7: Sequential.predict_classes (from tensorflow.python.keras.engine.sequential) is deprecated and will be removed after 2021-01-01.\n",
            "Instructions for updating:\n",
            "Please use instead:* `np.argmax(model.predict(x), axis=-1)`,   if your model does multi-class classification   (e.g. if it uses a `softmax` last-layer activation).* `(model.predict(x) > 0.5).astype(\"int32\")`,   if your model does binary classification   (e.g. if it uses a `sigmoid` last-layer activation).\n",
            "আজ আমি ধূসর কি রঙিন না পার থাকা অরব দূরত্ব পরাজয় থাকা অরব দূরত্ব পরাজয় থাকা অরব দূরত্ব পরাজয় থাকা অরব দূরত্ব পরাজয় থাকা অরব দূরত্ব পরাজয় থাকা অরব দূরত্ব পরাজয় থাকা অরব দূরত্ব পরাজয় থাকা অরব দূরত্ব পরাজয় থাকা অরব দূরত্ব পরাজয় থাকা অরব দূরত্ব পরাজয় থাকা অরব দূরত্ব পরাজয় থাকা অরব দূরত্ব পরাজয় থাকা অরব দূরত্ব পরাজয় থাকা অরব\n"
          ],
          "name": "stdout"
        }
      ]
    },
    {
      "cell_type": "code",
      "metadata": {
        "id": "DUW8NlUqhiBm",
        "colab_type": "code",
        "colab": {}
      },
      "source": [
        ""
      ],
      "execution_count": 9,
      "outputs": []
    }
  ]
}